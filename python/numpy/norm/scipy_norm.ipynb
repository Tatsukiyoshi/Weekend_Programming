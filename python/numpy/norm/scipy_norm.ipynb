{
 "cells": [
  {
   "cell_type": "code",
   "execution_count": 1,
   "metadata": {},
   "outputs": [
    {
     "name": "stdout",
     "output_type": "stream",
     "text": [
      "乱数の平均: 5.01\n",
      "乱数の標準偏差: 2.83\n",
      "x = 5 のときの確率密度: 0.1410\n"
     ]
    }
   ],
   "source": [
    "# randomモジュールとscipyモジュールをインポート\n",
    "import random\n",
    "import scipy.stats as stats\n",
    "\n",
    "# 乱数の個数\n",
    "N = 1000\n",
    "\n",
    "# 乱数の範囲\n",
    "a = 0\n",
    "b = 10\n",
    "\n",
    "# 乱数のリストを作成\n",
    "random_list = [random.uniform(a, b) for _ in range(N)]\n",
    "\n",
    "# 乱数のリストを母集団とする正規分布オブジェクトを作成\n",
    "norm = stats.norm.fit(random_list)\n",
    "\n",
    "# 正規分布オブジェクトの平均と標準偏差を取得\n",
    "mu = norm[0]\n",
    "sigma = norm[1]\n",
    "\n",
    "# 任意のx値\n",
    "x = 5\n",
    "\n",
    "# x値に対応する確率密度を計算\n",
    "pdf = stats.norm.pdf(x, mu, sigma)\n",
    "\n",
    "# 結果を表示\n",
    "print(f\"乱数の平均: {mu:.2f}\")\n",
    "print(f\"乱数の標準偏差: {sigma:.2f}\")\n",
    "print(f\"x = {x} のときの確率密度: {pdf:.4f}\")\n"
   ]
  }
 ],
 "metadata": {
  "kernelspec": {
   "display_name": "Python 3",
   "language": "python",
   "name": "python3"
  },
  "language_info": {
   "codemirror_mode": {
    "name": "ipython",
    "version": 3
   },
   "file_extension": ".py",
   "mimetype": "text/x-python",
   "name": "python",
   "nbconvert_exporter": "python",
   "pygments_lexer": "ipython3",
   "version": "3.12.0"
  }
 },
 "nbformat": 4,
 "nbformat_minor": 2
}
