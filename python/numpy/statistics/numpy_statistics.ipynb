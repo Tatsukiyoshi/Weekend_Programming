{
 "cells": [
  {
   "cell_type": "code",
   "execution_count": 1,
   "metadata": {},
   "outputs": [
    {
     "name": "stdout",
     "output_type": "stream",
     "text": [
      "[0, 1, 2, 3, 4, 5, 6, 7, 8, 9]\n",
      "[0 1 2 3 4 5 6 7 8 9]\n",
      "最大値 98\n",
      "最小値 79\n",
      "中央値 90.0\n",
      "平均値 88.75\n",
      "分散 37.4375\n",
      "標準偏差 6.118619125260208\n"
     ]
    }
   ],
   "source": [
    "#ライブラリのインポート\n",
    "import numpy as np\n",
    "\n",
    "#numpyを使わない配列\n",
    "list = [0, 1, 2, 3, 4, 5, 6, 7, 8, 9] \n",
    "#numpy配列\n",
    "nplist = np.array([0, 1, 2, 3, 4, 5, 6, 7, 8, 9])\n",
    "\n",
    "print(list)\n",
    "print(nplist)\n",
    "\n",
    "###\n",
    "#numpy配列\n",
    "nplist = np.array([82, 94, 93, 89, 91, 84, 98, 79])\n",
    "\n",
    "#最大値\n",
    "big = np.max(nplist)\n",
    "print(\"最大値\",big)\n",
    "\n",
    "#最小値\n",
    "small = np.min(nplist)\n",
    "print(\"最小値\",small)\n",
    "\n",
    "#中央値\n",
    "middle = np.median(nplist)\n",
    "print(\"中央値\",middle)\n",
    "\n",
    "#numpy.mean(): 配列の要素の平均値を算出\n",
    "a = np.mean(nplist)\n",
    "print(\"平均値\",a)\n",
    "\n",
    "#分散の算出\n",
    "nplist_var = np.var(nplist)\n",
    "print(\"分散\", nplist_var)\n",
    "\n",
    "#標準偏差の算出\n",
    "nplist_std = np.std(nplist)\n",
    "print(\"標準偏差\", nplist_std)\n"
   ]
  }
 ],
 "metadata": {
  "kernelspec": {
   "display_name": "Python 3",
   "language": "python",
   "name": "python3"
  },
  "language_info": {
   "codemirror_mode": {
    "name": "ipython",
    "version": 3
   },
   "file_extension": ".py",
   "mimetype": "text/x-python",
   "name": "python",
   "nbconvert_exporter": "python",
   "pygments_lexer": "ipython3",
   "version": "3.12.0"
  }
 },
 "nbformat": 4,
 "nbformat_minor": 2
}
